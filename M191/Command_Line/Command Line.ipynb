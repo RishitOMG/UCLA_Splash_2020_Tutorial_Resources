{
 "cells": [
  {
   "cell_type": "markdown",
   "metadata": {},
   "source": [
    "# Introduction to the Command Line\n",
    "  \n",
    "<img src=\"images/terminal.png\" alt=\"Command Line\" style=\"height: 300px\"/>\n",
    "\n",
    "### What is a command line?\n",
    "\n",
    "A command line is kind of a command screen, or text interface, is a user interface that is navigated by typing commands at prompts. Unlike a **GUI (Graphical User Interface)** operating system, a command line only uses a keyboard to navigate by entering commands and does not utilize a mouse for navigating.\n",
    "\n",
    "### Why use a command line?\n",
    "\n",
    "Although using a command line interface requires the memorization of dozens of different commands, it can be valuable resource and should not be ignored. Using a command line, you can perform almost all the same tasks that can be done with a GUI. But trust me it is easy, many tasks can be performed quicker and can be much easier to automate and do remotely.\n",
    "\n",
    "### Command line VS GUI(Graphical User Interface)\n",
    "\n",
    "In a GUI you will be moving your mouse from here to there and sometimes it can be slower than typing. Like for example to make a new folder, in a GUI you will need to do a left click with a mouse and hover over New and Click New Folder. But in a Command line you will just need to go to a directory and type a command to make a New Folder.\n",
    "You might be wondering so what, can you only make new folders in a command line. Well, the answer is **NO**.\n",
    "\n",
    "So, lets see what we can do with a command line other than \"*basic stuff*\"\n",
    "\n",
    "# Lets Get Started 😉"
   ]
  },
  {
   "cell_type": "markdown",
   "metadata": {},
   "source": [
    "```\n",
    "```"
   ]
  },
  {
   "cell_type": "markdown",
   "metadata": {},
   "source": [
    "So first thing, first you might need to use the <b>!</b> in front of some commands.                 \n",
    "(But you dont need to use it if you are in an actual command line)  \n",
    "I might use the **!** in some commands that means you also need to.  \n",
    "(But as said not in the actual command line)"
   ]
  },
  {
   "cell_type": "markdown",
   "metadata": {},
   "source": [
    "```\n",
    "```"
   ]
  },
  {
   "cell_type": "markdown",
   "metadata": {},
   "source": [
    "## Basic Commands"
   ]
  },
  {
   "cell_type": "markdown",
   "metadata": {},
   "source": [
    "`ls`                                                                               \n",
    "The most basic command.                                                                \n",
    "It is used to see what is inside a directory."
   ]
  },
  {
   "cell_type": "code",
   "execution_count": 2,
   "metadata": {},
   "outputs": [
    {
     "name": "stdout",
     "output_type": "stream",
     "text": [
      " Volume in drive C has no label.\n",
      " Volume Serial Number is F2DB-4428\n",
      "\n",
      " Directory of C:\\Users\\rajesh\\Desktop\\ChanR\\UCLA-SPLASH_2020\n",
      "\n",
      "11-Dec-19  10:24 AM    <DIR>          .\n",
      "11-Dec-19  10:24 AM    <DIR>          ..\n",
      "10-Dec-19  06:42 PM    <DIR>          .ipynb_checkpoints\n",
      "10-Dec-19  09:19 PM    <DIR>          Images\n",
      "11-Dec-19  10:24 AM             3,730 UCLA-SPLASH.ipynb\n",
      "               1 File(s)          3,730 bytes\n",
      "               4 Dir(s)  158,058,885,120 bytes free\n"
     ]
    }
   ],
   "source": [
    "ls"
   ]
  },
  {
   "cell_type": "markdown",
   "metadata": {
    "cell_style": "center"
   },
   "source": [
    "See it shows the list of file in the folder or more specifically **directory**. (because you are now in the programming world :)"
   ]
  },
  {
   "cell_type": "markdown",
   "metadata": {},
   "source": [
    "`mkdir`      \n",
    "This command is used to make a directory (as the name suggets make directory)      \n",
    "But thing to **note** is it will not take you inside that directory"
   ]
  },
  {
   "cell_type": "code",
   "execution_count": 4,
   "metadata": {},
   "outputs": [],
   "source": [
    "mkdir folder_name"
   ]
  },
  {
   "cell_type": "markdown",
   "metadata": {},
   "source": [
    "`cd`  \n",
    "This command is called change directory, short `cd`.  \n",
    "As the name suggets it is used to change directory."
   ]
  },
  {
   "cell_type": "code",
   "execution_count": 5,
   "metadata": {},
   "outputs": [
    {
     "name": "stdout",
     "output_type": "stream",
     "text": [
      "C:\\Users\\rajesh\\Desktop\\ChanR\\UCLA-SPLASH_2020\\folder_name\n"
     ]
    }
   ],
   "source": [
    "cd folder_name"
   ]
  },
  {
   "cell_type": "markdown",
   "metadata": {},
   "source": [
    "`cd ..`  \n",
    "This command is used to go back a directory  \n",
    "It can be used like this `cd ../..` to go back two directories you can repeat that too"
   ]
  },
  {
   "cell_type": "code",
   "execution_count": 6,
   "metadata": {},
   "outputs": [
    {
     "name": "stdout",
     "output_type": "stream",
     "text": [
      "C:\\Users\\rajesh\\Desktop\\ChanR\\UCLA-SPLASH_2020\n"
     ]
    }
   ],
   "source": [
    "cd .."
   ]
  },
  {
   "cell_type": "markdown",
   "metadata": {},
   "source": [
    "Now that you know how to make a directory, you will be wondering how do I make a file and see what is inside it at the same time\n",
    "\n",
    "**OK**\n",
    "\n",
    "Lets see how to do it then"
   ]
  },
  {
   "cell_type": "markdown",
   "metadata": {},
   "source": [
    "`touch`  \n",
    "This command is used to make a new file"
   ]
  },
  {
   "cell_type": "markdown",
   "metadata": {},
   "source": [
    "So, first lets go inside the directory we just made"
   ]
  },
  {
   "cell_type": "code",
   "execution_count": 7,
   "metadata": {},
   "outputs": [
    {
     "name": "stdout",
     "output_type": "stream",
     "text": [
      "C:\\Users\\rajesh\\Desktop\\ChanR\\UCLA-SPLASH_2020\\folder_name\n"
     ]
    }
   ],
   "source": [
    "cd folder_name"
   ]
  },
  {
   "cell_type": "code",
   "execution_count": 11,
   "metadata": {},
   "outputs": [],
   "source": [
    "!touch file_name.txt"
   ]
  },
  {
   "cell_type": "markdown",
   "metadata": {},
   "source": [
    "`cat`  \n",
    "This command is used to see the file contents"
   ]
  },
  {
   "cell_type": "code",
   "execution_count": 14,
   "metadata": {},
   "outputs": [
    {
     "name": "stdout",
     "output_type": "stream",
     "text": [
      "Hello World\n"
     ]
    }
   ],
   "source": [
    "!cat file_name.txt"
   ]
  },
  {
   "cell_type": "markdown",
   "metadata": {},
   "source": [
    "`&&`\n",
    "This command is used to use two or more commands at once"
   ]
  },
  {
   "cell_type": "code",
   "execution_count": 16,
   "metadata": {},
   "outputs": [],
   "source": [
    "mkdir WOW && cd WOW"
   ]
  },
  {
   "cell_type": "markdown",
   "metadata": {},
   "source": [
    "`rmdir`  \n",
    "This command is used to remove a directory (as the name suggets)"
   ]
  },
  {
   "cell_type": "code",
   "execution_count": 28,
   "metadata": {},
   "outputs": [
    {
     "name": "stdout",
     "output_type": "stream",
     "text": [
      "C:\\Users\\rajesh\\Desktop\\ChanR\\UCLA-SPLASH_2020\\folder_name\n"
     ]
    }
   ],
   "source": [
    "cd .."
   ]
  },
  {
   "cell_type": "code",
   "execution_count": 29,
   "metadata": {},
   "outputs": [],
   "source": [
    "rmdir WOW"
   ]
  },
  {
   "cell_type": "markdown",
   "metadata": {},
   "source": [
    "`pwd`  \n",
    "This command print the current working directory"
   ]
  },
  {
   "cell_type": "code",
   "execution_count": 31,
   "metadata": {},
   "outputs": [
    {
     "data": {
      "text/plain": [
       "'C:\\\\Users\\\\rajesh\\\\Desktop\\\\ChanR\\\\UCLA-SPLASH_2020\\\\folder_name'"
      ]
     },
     "execution_count": 31,
     "metadata": {},
     "output_type": "execute_result"
    }
   ],
   "source": [
    "pwd"
   ]
  },
  {
   "cell_type": "markdown",
   "metadata": {},
   "source": [
    "Rembember when we made file_name.txt  \n",
    "Now,    \n",
    "Lets say you want to remove it  \n",
    "Then,  \n",
    "You use the command  \n",
    "`rm`  \n",
    "This command removes the file specified"
   ]
  },
  {
   "cell_type": "code",
   "execution_count": 33,
   "metadata": {},
   "outputs": [],
   "source": [
    "!rm file_name.txt"
   ]
  },
  {
   "cell_type": "markdown",
   "metadata": {},
   "source": [
    "Now lets say you have stuff inside a directory and `rmdir` is not working, you try `rm` still not working  \n",
    "Then,  \n",
    "You use"
   ]
  },
  {
   "cell_type": "markdown",
   "metadata": {},
   "source": [
    "`rm -r`  \n",
    "This command deletes a directory and all of its child directories."
   ]
  },
  {
   "cell_type": "code",
   "execution_count": null,
   "metadata": {},
   "outputs": [],
   "source": [
    "!rm -r some_file"
   ]
  },
  {
   "cell_type": "markdown",
   "metadata": {},
   "source": [
    "## Now that we are done with basic commands "
   ]
  },
  {
   "cell_type": "markdown",
   "metadata": {},
   "source": [
    "## Lets see some Basic GitHub commands"
   ]
  },
  {
   "cell_type": "markdown",
   "metadata": {},
   "source": [
    "```\n",
    "```"
   ]
  },
  {
   "cell_type": "markdown",
   "metadata": {},
   "source": [
    "You will be like what is GitHub, well <b>Lets answer that question</b>  \n",
    "\n",
    "### What is GitHub\n",
    "GitHub is a code hosting platform for version control and collaboration. It lets you and others work together on projects from anywhere. You'll create your own repository and learn GitHub's Pull Request workflow, a popular way to create and review code.\n",
    "\n",
    "<img src=\"images/GitHub-Commit.png\" alt=\"GitHub\" style=\"height: 300px;\"/>"
   ]
  },
  {
   "cell_type": "markdown",
   "metadata": {},
   "source": [
    "`git clone`  \n",
    "This command is used to clone a GitHub repository\n",
    "\n",
    "**Note :-** In my case it is my \"test\" repository but you can put any repository"
   ]
  },
  {
   "cell_type": "code",
   "execution_count": 1,
   "metadata": {},
   "outputs": [
    {
     "name": "stderr",
     "output_type": "stream",
     "text": [
      "fatal: destination path 'test' already exists and is not an empty directory.\n"
     ]
    }
   ],
   "source": [
    "!git clone test"
   ]
  },
  {
   "cell_type": "markdown",
   "metadata": {},
   "source": [
    "`git commit -m \"Commit Message\"`  \n",
    "This command will commit your work  \n",
    "**Note:-** You need to enter the reporitory first"
   ]
  },
  {
   "cell_type": "code",
   "execution_count": 2,
   "metadata": {},
   "outputs": [
    {
     "name": "stdout",
     "output_type": "stream",
     "text": [
      "C:\\Users\\rajesh\\Desktop\\ChanR\\UCLA_Splash_2020_Tutorial_Resources\\M191\\Command_Line\\test\n"
     ]
    }
   ],
   "source": [
    "cd test"
   ]
  },
  {
   "cell_type": "markdown",
   "metadata": {},
   "source": [
    "`git add`  \n",
    "This command adds untracked files to commit"
   ]
  },
  {
   "cell_type": "code",
   "execution_count": 11,
   "metadata": {},
   "outputs": [],
   "source": [
    "!git add untitled.txt"
   ]
  },
  {
   "cell_type": "code",
   "execution_count": 12,
   "metadata": {
    "scrolled": false
   },
   "outputs": [
    {
     "name": "stdout",
     "output_type": "stream",
     "text": [
      "[master 645984f] Commiting my test work\n",
      " 1 file changed, 1 insertion(+)\n",
      " create mode 100644 untitled.txt\n"
     ]
    }
   ],
   "source": [
    "!git commit -m \"Commiting my test work\""
   ]
  },
  {
   "cell_type": "markdown",
   "metadata": {},
   "source": [
    "`git push`  \n",
    "This command is used to push your work after commiting it"
   ]
  },
  {
   "cell_type": "code",
   "execution_count": 13,
   "metadata": {},
   "outputs": [
    {
     "name": "stderr",
     "output_type": "stream",
     "text": [
      "To https://github.com/RishitOMG/test.git\n",
      "   d5d9404..645984f  master -> master\n"
     ]
    }
   ],
   "source": [
    "!git push"
   ]
  },
  {
   "cell_type": "markdown",
   "metadata": {},
   "source": [
    "`git pull`  \n",
    "This command is used to pull others work, to be updated on the repository"
   ]
  },
  {
   "cell_type": "code",
   "execution_count": 14,
   "metadata": {},
   "outputs": [
    {
     "name": "stdout",
     "output_type": "stream",
     "text": [
      "Updating 645984f..17be5fc\n",
      "Fast-forward\n",
      " test.py | 1 -\n",
      " 1 file changed, 1 deletion(-)\n",
      " delete mode 100644 test.py\n"
     ]
    },
    {
     "name": "stderr",
     "output_type": "stream",
     "text": [
      "From https://github.com/RishitOMG/test\n",
      "   645984f..17be5fc  master     -> origin/master\n"
     ]
    }
   ],
   "source": [
    "!git pull"
   ]
  },
  {
   "cell_type": "markdown",
   "metadata": {},
   "source": [
    "`git branch`  \n",
    "This command is used to view the current branch"
   ]
  },
  {
   "cell_type": "code",
   "execution_count": 15,
   "metadata": {},
   "outputs": [
    {
     "name": "stdout",
     "output_type": "stream",
     "text": [
      "* master\n"
     ]
    }
   ],
   "source": [
    "!git branch"
   ]
  },
  {
   "cell_type": "markdown",
   "metadata": {},
   "source": [
    "```\n",
    "```"
   ]
  },
  {
   "cell_type": "markdown",
   "metadata": {},
   "source": [
    "Glossary:-\n",
    "\n",
    "**GUI** : Graphical User Interface\n",
    "\n",
    "**Directory** : Just like a Folder but in a command line it is knowan as a Directory 😄"
   ]
  },
  {
   "cell_type": "markdown",
   "metadata": {},
   "source": [
    "```\n",
    "```\n",
    "```\n",
    "```"
   ]
  },
  {
   "cell_type": "markdown",
   "metadata": {},
   "source": [
    "## Thank You  \n",
    "# Made by `ChanR Analytics`\n"
   ]
  }
 ],
 "metadata": {
  "kernelspec": {
   "display_name": "Python 3",
   "language": "python",
   "name": "python3"
  },
  "language_info": {
   "codemirror_mode": {
    "name": "ipython",
    "version": 3
   },
   "file_extension": ".py",
   "mimetype": "text/x-python",
   "name": "python",
   "nbconvert_exporter": "python",
   "pygments_lexer": "ipython3",
   "version": "3.6.5"
  },
  "latex_envs": {
   "LaTeX_envs_menu_present": true,
   "autoclose": false,
   "autocomplete": true,
   "bibliofile": "biblio.bib",
   "cite_by": "apalike",
   "current_citInitial": 1,
   "eqLabelWithNumbers": true,
   "eqNumInitial": 1,
   "hotkeys": {
    "equation": "Ctrl-E",
    "itemize": "Ctrl-I"
   },
   "labels_anchors": false,
   "latex_user_defs": false,
   "report_style_numbering": false,
   "user_envs_cfg": false
  },
  "toc": {
   "base_numbering": 1,
   "nav_menu": {},
   "number_sections": false,
   "sideBar": true,
   "skip_h1_title": false,
   "title_cell": "Table of Contents",
   "title_sidebar": "Contents",
   "toc_cell": false,
   "toc_position": {},
   "toc_section_display": true,
   "toc_window_display": false
  }
 },
 "nbformat": 4,
 "nbformat_minor": 2
}
